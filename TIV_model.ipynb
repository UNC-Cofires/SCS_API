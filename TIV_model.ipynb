{
 "cells": [
  {
   "cell_type": "markdown",
   "id": "7665fbda",
   "metadata": {},
   "source": [
    "|\n",
    "##  **REAL DATA INTEGRATION**\n",
    "\n",
    "Integrate:\n",
    "- ✅ **Real MESH Data**: MRMS radar-derived MESH from May 20, 2023\n",
    "- ✅ **Real Convective Outlooks**: SPC 5% and 15% hail outlooks for May 19, 2023  \n",
    "- ✅ **Real Dallas Parcels**: 693,520 parcels from StratMap 2024\n",
    "- ✅ **Real Tax Appraisal**: DCAD detailed property characteristics\n",
    "- ✅ **Real PPH Data**: Calculated from actual NCEI storm reports\n",
    "- ✅ **Real NCEI Reports**: 54 actual hail reports from May 19 1200z to May 20 1200z, 2023\n",
    "\n",
    "## **Data Source**:\n",
    "- **Radar MESH**: `/Users/jimnguyen/IRMII/SCS_API/radar_data/MRMS_MESH_Max_1440min_00.50_20230520-120000.grib2.5b7b6.idx`\n",
    "- **Dallas Parcels**: 693,520 properties with 38 attributes each. Path:`/Users/jimnguyen/IRMII/SCS_API/dallas_property_analysis/Dallas.geojson`\n",
    "- **DCAD Tax Data**: 855,093 account records with detailed property info. Path: `/Users/jimnguyen/IRMII/SCS_API/dallas_property_analysis/tax_appraisal_value/dallas`\n",
    "- **Convective Outlook**: DN=5 (5%) and DN=15 (15%) polygons for May 19, 2023\n",
    "`/Users/jimnguyen/IRMII/SCS_API/convective_outlooks_only1200z/2019/5/forecast_day1/day1otlk_20190519_1200/day1otlk_20190519_1200_hail.shp`\n",
    "- **Property Values**: Real market values from Dallas County Appraisal District\n",
    "`/Users/jimnguyen/IRMII/SCS_API/dallas_property_analysis/dallas_3var.geojson`\n",
    "- **PPH VALUES**: Real Practically Perfect Hindcast values \n",
    "`/Users/jimnguyen/IRMII/SCS_API/PPH/NCEI_PPH/hail/pph_2023_05_19.csv`\n",
    "\n"
   ]
  },
  {
   "cell_type": "markdown",
   "id": "cabace1f",
   "metadata": {},
   "source": []
  },
  {
   "cell_type": "code",
   "execution_count": null,
   "id": "5bef0f75",
   "metadata": {},
   "outputs": [],
   "source": []
  }
 ],
 "metadata": {
  "kernelspec": {
   "display_name": "Python 3",
   "language": "python",
   "name": "python3"
  },
  "language_info": {
   "codemirror_mode": {
    "name": "ipython",
    "version": 3
   },
   "file_extension": ".py",
   "mimetype": "text/x-python",
   "name": "python",
   "nbconvert_exporter": "python",
   "pygments_lexer": "ipython3",
   "version": "3.13.0"
  }
 },
 "nbformat": 4,
 "nbformat_minor": 5
}
